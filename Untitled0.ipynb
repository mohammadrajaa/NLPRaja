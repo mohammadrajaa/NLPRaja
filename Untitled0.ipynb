{
  "nbformat": 4,
  "nbformat_minor": 0,
  "metadata": {
    "colab": {
      "name": "Untitled0.ipynb",
      "provenance": [],
      "authorship_tag": "ABX9TyOIN42ofGRpIQydJqxwBaVf"
    },
    "kernelspec": {
      "name": "python3",
      "display_name": "Python 3"
    }
  },
  "cells": [
    {
      "cell_type": "code",
      "metadata": {
        "id": "T7zCb7iR22sj",
        "outputId": "02a38678-c10d-4767-c754-1a415ff083e8",
        "colab": {
          "base_uri": "https://localhost:8080/",
          "height": 35
        }
      },
      "source": [
        "print(\"Mohammad Raja Alfachrezi Dalimunthe\")"
      ],
      "execution_count": null,
      "outputs": [
        {
          "output_type": "stream",
          "text": [
            "Mohammad Raja Alfachrezi Dalimunthe\n"
          ],
          "name": "stdout"
        }
      ]
    }
  ]
}