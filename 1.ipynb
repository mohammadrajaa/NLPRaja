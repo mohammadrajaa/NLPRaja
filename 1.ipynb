print("Mohammad Raja Alfachrezi Dalimunthe")
